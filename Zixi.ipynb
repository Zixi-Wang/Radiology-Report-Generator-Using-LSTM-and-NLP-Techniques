{
  "cells": [
    {
      "cell_type": "code",
      "metadata": {
        "tags": [],
        "cell_id": "00000-a0b98230-7962-4a56-b56d-52fa007ec157",
        "deepnote_to_be_reexecuted": false,
        "source_hash": "c2602aa8",
        "execution_millis": 3,
        "execution_start": 1615598063266,
        "deepnote_cell_type": "code"
      },
      "source": "import numpy as np",
      "outputs": [],
      "execution_count": null
    },
    {
      "cell_type": "code",
      "source": "def find_convex_cover(pvertices,clist):\n    '''\n    This function finds the optimal radii of m circles centered at the m points\n    specified by clist such that the sum of areas of the circles is minimized \n    and that any vertex in pvertices is also contained in at least one of the m\n    circles\n\n    Parameters\n    ----------\n    pvertices : numpy array\n        (n-1) long iterable of polygon vertices.\n    clist : list\n        list of m (x,y) tuples of circle centers.\n\n    Returns\n    -------\n    a list of m radii\n    '''\n    assert isinstance(pvertices, np.ndarray)\n    #assert pvertices.shape[0] >= 3\n    assert pvertices.shape[1] == 2\n    assert isinstance(clist, list) and len(clist) > 0\n    assert all(isinstance(c, tuple) for c in clist)\n    \n    a = pvertices[:,None] - clist\n    dist = np.square(a[:,:,0]) + np.square(a[:,:,1])\n    nearest_center = np.sqrt(np.min(dist,axis=1))\n    nn = np.argmin(dist,axis=1)\n    rad = [0]*dist.shape[1]\n    for i in range(len(nearest_center)):\n        if nearest_center[i]>rad[nn[i]]:\n            rad[nn[i]] = nearest_center[i]\n            \n    return rad",
      "metadata": {
        "tags": [],
        "cell_id": "00006-c16bf237-c5fd-40e5-954a-eb11c4daa4f1",
        "deepnote_to_be_reexecuted": false,
        "source_hash": "509b2e32",
        "execution_millis": 1,
        "execution_start": 1615598069903,
        "deepnote_cell_type": "code"
      },
      "outputs": [],
      "execution_count": null
    },
    {
      "cell_type": "code",
      "source": "find_convex_cover(pvertices,clist) # note some radii == 0",
      "metadata": {
        "tags": [],
        "cell_id": "00002-0e457061-6453-4d84-8420-ce81ee75119a",
        "deepnote_to_be_reexecuted": false,
        "source_hash": "7ea0abea",
        "execution_start": 1615598072180,
        "execution_millis": 38,
        "deepnote_cell_type": "code"
      },
      "outputs": [
        {
          "output_type": "execute_result",
          "execution_count": 5,
          "data": {
            "text/plain": "[0,\n 0,\n 0.10308867698080958,\n 0,\n 0.06328931721583797,\n 0.06832268735016316,\n 0.0803130047744335]"
          },
          "metadata": {}
        }
      ],
      "execution_count": null
    },
    {
      "cell_type": "code",
      "source": "pvertices = np.array([[ 0.573,  0.797],           \n                        [ 0.688,  0.402],                                                              \n                        [ 0.747,  0.238],                                                              \n                        [ 0.802,  0.426],                                                              \n                        [ 0.757,  0.796],                                                              \n                        [ 0.589,  0.811]])\n\nclist = [(0.7490863467660889, 0.4917635308023209),                                       \n              (0.6814339441396109, 0.6199470305156477),                                                \n              (0.7241617773773865, 0.6982813914515696),                                                \n              (0.6600700275207232, 0.7516911829987891),                                                \n              (0.6315848053622062, 0.7730550996176769),                                                \n              (0.7348437356868305, 0.41342916986639894),                                               \n              (0.7597683050755328, 0.31729154508140384)]",
      "metadata": {
        "tags": [],
        "cell_id": "00003-f68d4ae7-ee16-4f3a-a531-264820896671",
        "deepnote_to_be_reexecuted": false,
        "source_hash": "adc169e4",
        "execution_millis": 0,
        "execution_start": 1615598065706,
        "deepnote_cell_type": "code"
      },
      "outputs": [],
      "execution_count": null
    },
    {
      "cell_type": "markdown",
      "source": "<a style='text-decoration:none;line-height:16px;display:flex;color:#5B5B62;padding:10px;justify-content:end;' href='https://deepnote.com?utm_source=created-in-deepnote-cell&projectId=70d77681-f89e-4924-a303-7dd78b419c2f' target=\"_blank\">\n<img style='display:inline;max-height:16px;margin:0px;margin-right:7.5px;' src='data:image/svg+xml;base64,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' > </img>\nCreated in <span style='font-weight:600;margin-left:4px;'>Deepnote</span></a>",
      "metadata": {
        "tags": [],
        "created_in_deepnote_cell": true,
        "deepnote_cell_type": "markdown"
      }
    }
  ],
  "nbformat": 4,
  "nbformat_minor": 2,
  "metadata": {
    "orig_nbformat": 2,
    "deepnote_notebook_id": "8c512a33-7eef-400f-8fd9-9024925c154a",
    "deepnote": {
      "is_reactive": false
    },
    "deepnote_execution_queue": []
  }
}