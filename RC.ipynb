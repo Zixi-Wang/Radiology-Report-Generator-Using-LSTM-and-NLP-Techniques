{
  "cells": [
    {
      "cell_type": "code",
      "metadata": {
        "tags": [],
        "cell_id": "00000-960b7f29-3d3d-451b-81db-2c65c9ae8be6",
        "deepnote_to_be_reexecuted": false,
        "source_hash": "c2602aa8",
        "execution_start": 1615592730095,
        "execution_millis": 2,
        "deepnote_cell_type": "code"
      },
      "source": "import numpy as np",
      "execution_count": null,
      "outputs": []
    },
    {
      "cell_type": "code",
      "metadata": {
        "tags": [],
        "cell_id": "00001-5b1cb080-38c2-424b-8992-94ebf33d8dd8",
        "deepnote_cell_type": "code"
      },
      "source": "def find_convex_cover(pvertices,clist):\n    '''\n    This function finds the optimal radii of m circles centered at the m points\n    specified by clist such that the sum of areas of the circles is minimized \n    and that any vertex in pvertices is also contained in at least one of the m\n    circles\n\n    Parameters\n    ----------\n    pvertices : numpy array\n        (n-1) long iterable of polygon vertices.\n    clist : list\n        list of m (x,y) tuples of circle centers.\n\n    Returns\n    -------\n    a list of m radii\n    '''\n    assert isinstance(pvertices, np.ndarray)\n    #assert pvertices.shape[0] >= 3\n    assert pvertices.shape[1] == 2\n    assert isinstance(clist, list) and len(clist) > 0\n    assert all(isinstance(c, tuple) for c in clist)\n    \n    x = pvertices[:,None] - clist\n    y = np.linalg.norm(x, axis = 2)\n    \n    idx_min = np.argmin(y, axis=1)\n    \n    radii = np.zeros(len(clist))\n    for i in range(idx_min.shape[0]):\n        if y[i, idx_min[i]] > radii[idx_min[i]]:\n            radii[idx_min[i]] = y[i, idx_min[i]]\n            \n    return radii",
      "execution_count": null,
      "outputs": []
    },
    {
      "cell_type": "code",
      "metadata": {
        "tags": [],
        "cell_id": "00001-c3eba161-4f4e-491c-9dda-a8b6ddd9317e",
        "deepnote_to_be_reexecuted": false,
        "source_hash": "99c3602a",
        "execution_millis": 0,
        "execution_start": 1615594376930,
        "deepnote_cell_type": "code"
      },
      "source": "pvertices = np.array([[ 0.573,  0.797],           \n                        [ 0.688,  0.402],                                                              \n                        [ 0.747,  0.238],                                                              \n                        [ 0.802,  0.426],                                                              \n                        [ 0.757,  0.796],                                                              \n                        [ 0.589,  0.811]])\n\nclist = [(0.7490863467660889, 0.4917635308023209),                                       \n              (0.6814339441396109, 0.6199470305156477),                                                \n              (0.7241617773773865, 0.6982813914515696),                                                \n              (0.6600700275207232, 0.7516911829987891),                                                \n              (0.6315848053622062, 0.7730550996176769),                                                \n              (0.7348437356868305, 0.41342916986639894),                                               \n              (0.7597683050755328, 0.31729154508140384)]\n\nx = pvertices[:,None] - clist\ny = np.linalg.norm(x, axis = 2)\nprint(y)",
      "execution_count": null,
      "outputs": [
        {
          "name": "stdout",
          "text": "[[0.35238573 0.20761906 0.18054154 0.09815334 0.06328932 0.41631716\n  0.51478403]\n [0.10857731 0.21804592 0.29848004 0.3508048  0.37531928 0.04821785\n  0.11102347]\n [0.25377211 0.38753379 0.46084764 0.52099468 0.54736151 0.17584985\n  0.080313  ]\n [0.08440792 0.2283673  0.28318889 0.35527294 0.38663753 0.06832269\n  0.11662351]\n [0.30433937 0.19158517 0.10308868 0.10657716 0.12749682 0.38321187\n  0.47871646]\n [0.35712681 0.21223871 0.17599486 0.09256611 0.05703754 0.42347723\n  0.52240775]]\n[[0.1241757  0.04310567 0.03259525 0.00963408 0.00400554 0.17331998\n  0.2650026 ]\n [0.01178903 0.04754402 0.08909034 0.12306401 0.14086456 0.00232496\n  0.01232621]\n [0.06440028 0.15018244 0.21238054 0.27143545 0.29960463 0.03092317\n  0.00645018]\n [0.0071247  0.05215162 0.08019595 0.12621886 0.14948858 0.00466799\n  0.01360104]\n [0.09262246 0.03670488 0.01062728 0.01135869 0.01625544 0.14685134\n  0.22916945]\n [0.12753956 0.04504527 0.03097419 0.00856848 0.00325328 0.17933296\n  0.27290985]]\n",
          "output_type": "stream"
        }
      ]
    },
    {
      "cell_type": "code",
      "metadata": {
        "tags": [],
        "cell_id": "00002-d48304dc-4eb3-4e41-85b2-ac1e2e2ca1ad",
        "deepnote_to_be_reexecuted": false,
        "source_hash": "1f71d7b5",
        "execution_millis": 8,
        "execution_start": 1615594072923,
        "deepnote_cell_type": "code"
      },
      "source": "np.min(y, axis=1)",
      "execution_count": null,
      "outputs": [
        {
          "output_type": "execute_result",
          "execution_count": 9,
          "data": {
            "text/plain": "array([0.00400554, 0.00232496, 0.00645018, 0.00466799, 0.01062728,\n       0.00325328])"
          },
          "metadata": {}
        }
      ]
    },
    {
      "cell_type": "code",
      "metadata": {
        "tags": [],
        "cell_id": "00003-28d772ab-3b26-4156-9436-f668e8d30478",
        "deepnote_to_be_reexecuted": false,
        "source_hash": "3a890f82",
        "execution_start": 1615594122908,
        "execution_millis": 12,
        "deepnote_cell_type": "code"
      },
      "source": "np.argmin(y, axis=1)",
      "execution_count": null,
      "outputs": [
        {
          "output_type": "execute_result",
          "execution_count": 10,
          "data": {
            "text/plain": "array([4, 5, 6, 5, 2, 4])"
          },
          "metadata": {}
        }
      ]
    },
    {
      "cell_type": "code",
      "metadata": {
        "tags": [],
        "cell_id": "00003-bbdc5351-49ea-4bf3-a914-a629040d1a0a",
        "deepnote_to_be_reexecuted": false,
        "source_hash": "5f49314e",
        "execution_start": 1615594420769,
        "execution_millis": 7,
        "deepnote_cell_type": "code"
      },
      "source": "print(y[0,4],y[5,4])",
      "execution_count": null,
      "outputs": [
        {
          "name": "stdout",
          "text": "0.06328931721583797 0.057037541258029456\n",
          "output_type": "stream"
        }
      ]
    },
    {
      "cell_type": "code",
      "metadata": {
        "tags": [],
        "cell_id": "00005-fcd3a65a-a992-4591-bc27-61c4a310c3e8",
        "deepnote_to_be_reexecuted": false,
        "source_hash": "9693d0d1",
        "execution_start": 1615594465534,
        "execution_millis": 5,
        "deepnote_cell_type": "code"
      },
      "source": "print(y[1,5],y[3,5])",
      "execution_count": null,
      "outputs": [
        {
          "name": "stdout",
          "text": "0.04821785454510229 0.06832268735016316\n",
          "output_type": "stream"
        }
      ]
    },
    {
      "cell_type": "code",
      "metadata": {
        "tags": [],
        "cell_id": "00006-f09225d4-e695-4211-8ab1-ccbfd9557247",
        "deepnote_to_be_reexecuted": false,
        "source_hash": "72d34a38",
        "execution_start": 1615594537917,
        "execution_millis": 4,
        "deepnote_cell_type": "code"
      },
      "source": "print(y[4,2])",
      "execution_count": null,
      "outputs": [
        {
          "name": "stdout",
          "text": "0.10308867698080958\n",
          "output_type": "stream"
        }
      ]
    },
    {
      "cell_type": "code",
      "metadata": {
        "tags": [],
        "cell_id": "00007-f0cc58c0-ce20-46c6-8dbd-fed3dd674739",
        "deepnote_to_be_reexecuted": false,
        "source_hash": "64fd45c6",
        "execution_start": 1615594561511,
        "execution_millis": 5,
        "deepnote_cell_type": "code"
      },
      "source": "print(y[2,6])",
      "execution_count": null,
      "outputs": [
        {
          "name": "stdout",
          "text": "0.0803130047744335\n",
          "output_type": "stream"
        }
      ]
    },
    {
      "cell_type": "markdown",
      "source": "<a style='text-decoration:none;line-height:16px;display:flex;color:#5B5B62;padding:10px;justify-content:end;' href='https://deepnote.com?utm_source=created-in-deepnote-cell&projectId=70d77681-f89e-4924-a303-7dd78b419c2f' target=\"_blank\">\n<img style='display:inline;max-height:16px;margin:0px;margin-right:7.5px;' src='data:image/svg+xml;base64,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' > </img>\nCreated in <span style='font-weight:600;margin-left:4px;'>Deepnote</span></a>",
      "metadata": {
        "tags": [],
        "created_in_deepnote_cell": true,
        "deepnote_cell_type": "markdown"
      }
    }
  ],
  "nbformat": 4,
  "nbformat_minor": 2,
  "metadata": {
    "orig_nbformat": 2,
    "deepnote_notebook_id": "68a182aa-da8b-4055-a140-c81d61f1266a",
    "deepnote": {},
    "deepnote_execution_queue": []
  }
}